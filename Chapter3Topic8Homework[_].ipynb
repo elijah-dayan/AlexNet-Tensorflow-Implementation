{
  "metadata": {
    "kernelspec": {
      "name": "python",
      "display_name": "Python (Pyodide)",
      "language": "python"
    },
    "language_info": {
      "name": ""
    },
    "colab": {
      "provenance": [],
      "include_colab_link": true
    }
  },
  "nbformat_minor": 0,
  "nbformat": 4,
  "cells": [
    {
      "cell_type": "markdown",
      "metadata": {
        "id": "view-in-github",
        "colab_type": "text"
      },
      "source": [
        "<a href=\"https://colab.research.google.com/github/elijah-dayan/AlexNet-Tensorflow-Implementation/blob/master/Chapter3Topic8Homework%5B_%5D.ipynb\" target=\"_parent\"><img src=\"https://colab.research.google.com/assets/colab-badge.svg\" alt=\"Open In Colab\"/></a>"
      ]
    },
    {
      "cell_type": "code",
      "source": [
        "'''\n",
        "def ran_check(num, low, high):\n",
        "    if num >= low and num <=high:\n",
        "        print('True')\n",
        "    else:\n",
        "        print ('False')\n",
        "'''\n",
        "\n",
        "'''\n",
        "def ran_check(num,low,high):\n",
        "    if num in range (low,high+1):\n",
        "        print ('{} is in the range between {} and {}'.format(num,low,high))\n",
        "    else:\n",
        "        print (\"The number is outside the range\")\n",
        "'''\n",
        "# Check(example test)\n",
        "#ran_check(5,2,7)\n",
        "#5 is in the range between 2 and 7\n",
        "\n",
        "def ran_check(num,low,high):\n",
        "  if num in range (low,high+1):\n",
        "    print('{} is in the range between {} and {}'.format(num,low,high))\n",
        "  else:\n",
        "    print ('The number is outside the range')\n"
      ],
      "metadata": {
        "trusted": true,
        "id": "BS6WPQAPjWYh"
      },
      "outputs": [],
      "execution_count": 187
    },
    {
      "cell_type": "code",
      "source": [
        "ran_check(11,2,9)"
      ],
      "metadata": {
        "colab": {
          "base_uri": "https://localhost:8080/"
        },
        "id": "4ZaEhrwXkhro",
        "outputId": "4a219922-5bb3-45a6-9356-9a2de5ee2beb"
      },
      "execution_count": 188,
      "outputs": [
        {
          "output_type": "stream",
          "name": "stdout",
          "text": [
            "The number is outside the range\n"
          ]
        }
      ]
    },
    {
      "cell_type": "code",
      "source": [
        "\n",
        "def vol(rad):\n",
        "    sphere = (4/3) * (3.1416 )* (rad**3)\n",
        "    print (sphere)\n",
        "\n",
        "\n",
        "\n",
        "'''\n",
        "def vol(rad):\n",
        "    return (4/3)*(3.14)*(rad**3)\n",
        "\n",
        "'''\n",
        ""
      ],
      "metadata": {
        "trusted": true,
        "colab": {
          "base_uri": "https://localhost:8080/",
          "height": 35
        },
        "id": "hm08nknKjWYk",
        "outputId": "e702972a-e2a6-4a90-daac-ca1a090270e7"
      },
      "outputs": [
        {
          "output_type": "execute_result",
          "data": {
            "text/plain": [
              "'\\ndef vol(rad):\\n    return (4/3)*(3.14)*(rad**3)\\n\\n'"
            ],
            "application/vnd.google.colaboratory.intrinsic+json": {
              "type": "string"
            }
          },
          "metadata": {},
          "execution_count": 189
        }
      ],
      "execution_count": 189
    },
    {
      "cell_type": "code",
      "source": [
        "vol(2)"
      ],
      "metadata": {
        "colab": {
          "base_uri": "https://localhost:8080/"
        },
        "id": "V4XXfoZtlS5t",
        "outputId": "56a1c39a-7f75-470c-8ab7-e2f75a52e9bb"
      },
      "execution_count": 190,
      "outputs": [
        {
          "output_type": "stream",
          "name": "stdout",
          "text": [
            "33.5104\n"
          ]
        }
      ]
    },
    {
      "cell_type": "code",
      "source": [
        "def up_low(s):\n",
        "    pass\n",
        "# count the number of uppercase and\n",
        "#lowecase letters in the string\n",
        "\n",
        "'''\n",
        "def up_low(s):\n",
        "    d = {\"upper\":0, \"lower\":0}\n",
        "    for c in s:\n",
        "        if c.isupper():\n",
        "            d['upper']+=1\n",
        "        elif c.islower():\n",
        "            d['lower']+=1\n",
        "        else:\n",
        "            pass\n",
        "    print(\"Original String : \", s)\n",
        "    print(\"No. of Upper case characters : \", d[\"upper\"])\n",
        "    print(\"No. of Lower case Characters : \", d[\"lower\"])\n",
        "\n",
        "'''\n",
        "\n",
        "def up_low(s):\n",
        "  d = {\"upper\":0 , \"lower\":0}\n",
        "  for c in s:\n",
        "    if c.isupper():\n",
        "      d['upper'] = d['upper'] + 1\n",
        "    elif c.islower():\n",
        "      d['lower'] = d['lower'] + 1\n",
        "    else:\n",
        "      pass\n",
        "    print (\"Original String: \", s)\n",
        "    print(\"Number of Upper Case Chracters : \", d['upper'])\n",
        "    print(\"Number of Lower Case Characters : \",d['lower'])\n",
        "\n",
        "'''\n",
        "# A Test\n",
        "s = 'Hello Mr. Rogers, how are you this fine Tuesday?'\n",
        "up_low(s)\n",
        "Original String :  Hello Mr. Rogers, how are you this fine Tuesday?\n",
        "No. of Upper case characters :  4\n",
        "No. of Lower case Characters :  33\n",
        "'''"
      ],
      "metadata": {
        "trusted": true,
        "colab": {
          "base_uri": "https://localhost:8080/",
          "height": 70
        },
        "id": "LmJKbByfjWYl",
        "outputId": "f9dc8e5e-81fb-493c-b587-210291f12d3c"
      },
      "outputs": [
        {
          "output_type": "execute_result",
          "data": {
            "text/plain": [
              "\"\\n# A Test\\ns = 'Hello Mr. Rogers, how are you this fine Tuesday?'\\nup_low(s)\\nOriginal String :  Hello Mr. Rogers, how are you this fine Tuesday?\\nNo. of Upper case characters :  4\\nNo. of Lower case Characters :  33\\n\""
            ],
            "application/vnd.google.colaboratory.intrinsic+json": {
              "type": "string"
            }
          },
          "metadata": {},
          "execution_count": 191
        }
      ],
      "execution_count": 191
    },
    {
      "cell_type": "code",
      "source": [
        "up_low(\"This Is A String For Practice\")\n",
        "# for some reason, this practice problem didn't count one lowercase somewhere\n",
        "# one short count for lower case"
      ],
      "metadata": {
        "colab": {
          "base_uri": "https://localhost:8080/"
        },
        "id": "wHfNpNQKnzTu",
        "outputId": "c63bedbd-52ff-4f9e-9b2c-4ffef7d548e5"
      },
      "execution_count": 192,
      "outputs": [
        {
          "output_type": "stream",
          "name": "stdout",
          "text": [
            "Original String:  This Is A String For Practice\n",
            "Number of Upper Case Chracters :  1\n",
            "Number of Lower Case Characters :  0\n",
            "Original String:  This Is A String For Practice\n",
            "Number of Upper Case Chracters :  1\n",
            "Number of Lower Case Characters :  1\n",
            "Original String:  This Is A String For Practice\n",
            "Number of Upper Case Chracters :  1\n",
            "Number of Lower Case Characters :  2\n",
            "Original String:  This Is A String For Practice\n",
            "Number of Upper Case Chracters :  1\n",
            "Number of Lower Case Characters :  3\n",
            "Original String:  This Is A String For Practice\n",
            "Number of Upper Case Chracters :  1\n",
            "Number of Lower Case Characters :  3\n",
            "Original String:  This Is A String For Practice\n",
            "Number of Upper Case Chracters :  2\n",
            "Number of Lower Case Characters :  3\n",
            "Original String:  This Is A String For Practice\n",
            "Number of Upper Case Chracters :  2\n",
            "Number of Lower Case Characters :  4\n",
            "Original String:  This Is A String For Practice\n",
            "Number of Upper Case Chracters :  2\n",
            "Number of Lower Case Characters :  4\n",
            "Original String:  This Is A String For Practice\n",
            "Number of Upper Case Chracters :  3\n",
            "Number of Lower Case Characters :  4\n",
            "Original String:  This Is A String For Practice\n",
            "Number of Upper Case Chracters :  3\n",
            "Number of Lower Case Characters :  4\n",
            "Original String:  This Is A String For Practice\n",
            "Number of Upper Case Chracters :  4\n",
            "Number of Lower Case Characters :  4\n",
            "Original String:  This Is A String For Practice\n",
            "Number of Upper Case Chracters :  4\n",
            "Number of Lower Case Characters :  5\n",
            "Original String:  This Is A String For Practice\n",
            "Number of Upper Case Chracters :  4\n",
            "Number of Lower Case Characters :  6\n",
            "Original String:  This Is A String For Practice\n",
            "Number of Upper Case Chracters :  4\n",
            "Number of Lower Case Characters :  7\n",
            "Original String:  This Is A String For Practice\n",
            "Number of Upper Case Chracters :  4\n",
            "Number of Lower Case Characters :  8\n",
            "Original String:  This Is A String For Practice\n",
            "Number of Upper Case Chracters :  4\n",
            "Number of Lower Case Characters :  9\n",
            "Original String:  This Is A String For Practice\n",
            "Number of Upper Case Chracters :  4\n",
            "Number of Lower Case Characters :  9\n",
            "Original String:  This Is A String For Practice\n",
            "Number of Upper Case Chracters :  5\n",
            "Number of Lower Case Characters :  9\n",
            "Original String:  This Is A String For Practice\n",
            "Number of Upper Case Chracters :  5\n",
            "Number of Lower Case Characters :  10\n",
            "Original String:  This Is A String For Practice\n",
            "Number of Upper Case Chracters :  5\n",
            "Number of Lower Case Characters :  11\n",
            "Original String:  This Is A String For Practice\n",
            "Number of Upper Case Chracters :  5\n",
            "Number of Lower Case Characters :  11\n",
            "Original String:  This Is A String For Practice\n",
            "Number of Upper Case Chracters :  6\n",
            "Number of Lower Case Characters :  11\n",
            "Original String:  This Is A String For Practice\n",
            "Number of Upper Case Chracters :  6\n",
            "Number of Lower Case Characters :  12\n",
            "Original String:  This Is A String For Practice\n",
            "Number of Upper Case Chracters :  6\n",
            "Number of Lower Case Characters :  13\n",
            "Original String:  This Is A String For Practice\n",
            "Number of Upper Case Chracters :  6\n",
            "Number of Lower Case Characters :  14\n",
            "Original String:  This Is A String For Practice\n",
            "Number of Upper Case Chracters :  6\n",
            "Number of Lower Case Characters :  15\n",
            "Original String:  This Is A String For Practice\n",
            "Number of Upper Case Chracters :  6\n",
            "Number of Lower Case Characters :  16\n",
            "Original String:  This Is A String For Practice\n",
            "Number of Upper Case Chracters :  6\n",
            "Number of Lower Case Characters :  17\n",
            "Original String:  This Is A String For Practice\n",
            "Number of Upper Case Chracters :  6\n",
            "Number of Lower Case Characters :  18\n"
          ]
        }
      ]
    },
    {
      "cell_type": "code",
      "source": [
        "def unique_list(lst):\n",
        "    n_lst = set(lst)\n",
        "    print (n_lst)\n",
        "\n",
        "#return a list of unique numbers\n",
        "#unique_list([1,1,1,1,2,2,3,3,3,3,4,5])\n",
        "#[1, 2, 3, 4, 5]\n",
        "\n",
        "\n",
        "\n",
        "def unique_list(lst):\n",
        "  x = []\n",
        "  for a in lst:\n",
        "    if a not in x:\n",
        "      x.append(a)\n",
        "    else:\n",
        "      pass\n",
        "  return x"
      ],
      "metadata": {
        "trusted": true,
        "id": "P9-6TS4EjWYs"
      },
      "outputs": [],
      "execution_count": 193
    },
    {
      "cell_type": "code",
      "source": [
        "unique_list([1,1,1,2,2,3,4,5,5,6,6,6,7,7,8])"
      ],
      "metadata": {
        "colab": {
          "base_uri": "https://localhost:8080/"
        },
        "id": "SuKPJES0phj0",
        "outputId": "30c8775a-3766-4fe1-f502-dfa7b97b14ac"
      },
      "execution_count": 194,
      "outputs": [
        {
          "output_type": "execute_result",
          "data": {
            "text/plain": [
              "[1, 2, 3, 4, 5, 6, 7, 8]"
            ]
          },
          "metadata": {},
          "execution_count": 194
        }
      ]
    },
    {
      "cell_type": "code",
      "source": [
        "\n",
        "\n",
        "# write a fucntion that multiplies all the numbers in a list\n",
        "#multiply([1,2,3,-4])\n",
        "#-24\n",
        "\n",
        "def multiply(numbers):\n",
        "    total = 1\n",
        "    for x in numbers:\n",
        "        total = total * x\n",
        "    return total"
      ],
      "metadata": {
        "trusted": true,
        "id": "mg9fL0LnjWYt"
      },
      "outputs": [],
      "execution_count": 195
    },
    {
      "cell_type": "code",
      "source": [
        "multiply([1,2,3,4])"
      ],
      "metadata": {
        "colab": {
          "base_uri": "https://localhost:8080/"
        },
        "id": "w39X9cRsnvmD",
        "outputId": "6f0f6b7e-06be-43f8-da04-768856c5465a"
      },
      "execution_count": 196,
      "outputs": [
        {
          "output_type": "execute_result",
          "data": {
            "text/plain": [
              "24"
            ]
          },
          "metadata": {},
          "execution_count": 196
        }
      ]
    },
    {
      "cell_type": "code",
      "source": [
        "def palindrome(s):\n",
        "\n",
        "  s = s.replace(\" \",\"\")\n",
        "  if s == s[::-1]:\n",
        "    print(\"Palindrome of {} is {}\".format(s,s[::-1]))\n",
        "  else:\n",
        "    print(\"false\")\n",
        "\n",
        "#write a fucntion that checks palindrome or not\n",
        "\n",
        "\n",
        "\n",
        "'''\n",
        "def palindrome(s):\n",
        "\n",
        "    s = s.replace(' ','') # This replaces all spaces ' ' with no space ''. (Fixes issues with strings that have spaces)\n",
        "    return s == s[::-1]   # Check through slicing\n",
        "\n",
        "'''\n",
        "\n",
        "'''\n",
        "palindrome('nurses run')\n",
        "True\n",
        "palindrome('abcba')\n",
        "True\n",
        "'''\n",
        "\n"
      ],
      "metadata": {
        "trusted": true,
        "colab": {
          "base_uri": "https://localhost:8080/",
          "height": 35
        },
        "id": "1Coy6SvZjWYu",
        "outputId": "e6f05e95-d0a0-43ad-b554-bd595f30abae"
      },
      "outputs": [
        {
          "output_type": "execute_result",
          "data": {
            "text/plain": [
              "\"\\npalindrome('nurses run')\\nTrue\\npalindrome('abcba')\\nTrue\\n\""
            ],
            "application/vnd.google.colaboratory.intrinsic+json": {
              "type": "string"
            }
          },
          "metadata": {},
          "execution_count": 197
        }
      ],
      "execution_count": 197
    },
    {
      "cell_type": "code",
      "source": [
        "palindrome('abcba')"
      ],
      "metadata": {
        "colab": {
          "base_uri": "https://localhost:8080/"
        },
        "id": "wpqrUUYYq4il",
        "outputId": "2c07fd86-1c25-45d9-bef3-888a7161354d"
      },
      "execution_count": 198,
      "outputs": [
        {
          "output_type": "stream",
          "name": "stdout",
          "text": [
            "Palindrome of abcba is abcba\n"
          ]
        }
      ]
    },
    {
      "cell_type": "code",
      "source": [
        "import string\n",
        "\n",
        "def ispangram(str1, alphabet=string.ascii_lowercase):\n",
        "    pass\n",
        "\n",
        "ispangram (\"The quick brown fox jumps over the lazy dog\")\n",
        "# python fucntion to check a pangram. pangram is a sentecne that\n",
        "#contains every letter of the alphabet.\n",
        "\n",
        "'''\n",
        "import string\n",
        "\n",
        "def ispangram(str1, alphabet=string.ascii_lowercase):\n",
        "    # Create a set of the alphabet\n",
        "    alphaset = set(alphabet)\n",
        "\n",
        "    # Remove spaces from str1\n",
        "    # remove all spaces with no spaces\n",
        "    str1 = str1.replace(\" \",'')\n",
        "\n",
        "    # Lowercase all strings in the passed in string\n",
        "    # Recall we assume no punctuation\n",
        "    str1 = str1.lower()\n",
        "\n",
        "    # Grab all unique letters in the string as a set\n",
        "    str1 = set(str1)\n",
        "\n",
        "    # Now check that the alpahbet set is same as string set\n",
        "    return str1 == alphaset\n",
        "ispangram(\"The quick brown fox jumps over the lazy dog\")\n",
        "True\n",
        "'''\n",
        "\n",
        "import string\n",
        "\n",
        "def pangram (str01, alphabet = string.ascii_lowercase):\n",
        "  keyword = 'False'\n",
        "  alphaset = set(alphabet)\n",
        "\n",
        "  str01 = str01.replace(\" \",\"\")\n",
        "\n",
        "  string_set = set(str01.lower())\n",
        "\n",
        "  # return string_set == alphaset\n",
        "\n",
        "  if string_set == alphaset:\n",
        "     keyword = \"True\"\n",
        "  return keyword"
      ],
      "metadata": {
        "trusted": true,
        "id": "P8-vP4wRjWYu"
      },
      "outputs": [],
      "execution_count": 209
    },
    {
      "cell_type": "code",
      "source": [
        "pangram (\"This is not a pangram olle\")"
      ],
      "metadata": {
        "colab": {
          "base_uri": "https://localhost:8080/",
          "height": 35
        },
        "id": "NYDtYLiNwFMa",
        "outputId": "c8f14945-a010-49f3-c0e3-dd8c85765e82"
      },
      "execution_count": 210,
      "outputs": [
        {
          "output_type": "execute_result",
          "data": {
            "text/plain": [
              "'False'"
            ],
            "application/vnd.google.colaboratory.intrinsic+json": {
              "type": "string"
            }
          },
          "metadata": {},
          "execution_count": 210
        }
      ]
    },
    {
      "cell_type": "code",
      "source": [
        "pangram(\"The quick brown fox jumps over the lazy dog\")"
      ],
      "metadata": {
        "trusted": true,
        "colab": {
          "base_uri": "https://localhost:8080/",
          "height": 35
        },
        "id": "Gyk5U4oVjWYx",
        "outputId": "793c1e48-6dc9-45cf-f90b-8f6aaa5e1497"
      },
      "outputs": [
        {
          "output_type": "execute_result",
          "data": {
            "text/plain": [
              "'True'"
            ],
            "application/vnd.google.colaboratory.intrinsic+json": {
              "type": "string"
            }
          },
          "metadata": {},
          "execution_count": 208
        }
      ],
      "execution_count": 208
    }
  ]
}